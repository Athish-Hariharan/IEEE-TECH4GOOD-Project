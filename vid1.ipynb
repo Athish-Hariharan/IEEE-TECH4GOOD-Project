{
  "cells": [
    {
      "cell_type": "code",
      "execution_count": 1,
      "metadata": {
        "id": "cktf4Jck9ffz"
      },
      "outputs": [],
      "source": [
        "import cv2\n",
        "import os\n",
        "from google.colab import files"
      ]
    },
    {
      "cell_type": "code",
      "execution_count": 3,
      "metadata": {
        "id": "ypHcN3ZI-_hl"
      },
      "outputs": [],
      "source": [
        "class VideoFrameExtractor:\n",
        "    def __init__(self, video_path, output_folder, interval_ms=100):\n",
        "        \"\"\"\n",
        "        Initialize the VideoFrameExtractor.\n",
        "\n",
        "        :param video_path: Path to the input video file.\n",
        "        :param output_folder: Folder to save the extracted frames.\n",
        "        :param interval_ms: Interval in milliseconds to extract frames.\n",
        "        \"\"\"\n",
        "        self.video_path = video_path\n",
        "        self.output_folder = output_folder\n",
        "        self.interval_ms = interval_ms\n",
        "    # Create the output folder if it doesn't exist\n",
        "        if not os.path.exists(self.output_folder):\n",
        "            os.makedirs(self.output_folder)\n",
        "\n",
        "    def extract_frames(self):\n",
        "        \"\"\"\n",
        "        Extract frames from the video at the specified interval.\n",
        "        \"\"\"\n",
        "        # Open the video file\n",
        "        cap = cv2.VideoCapture(self.video_path)\n",
        "\n",
        "        if not cap.isOpened():\n",
        "            print(\"Error: Could not open video.\")\n",
        "            return\n",
        "\n",
        "        # Get video properties\n",
        "        fps = cap.get(cv2.CAP_PROP_FPS)\n",
        "        frame_count = int(cap.get(cv2.CAP_PROP_FRAME_COUNT))\n",
        "        print(f\"Video FPS: {fps}, Total Frames: {frame_count}\")\n",
        "\n",
        "        # Calculate the frame interval based on the desired interval in milliseconds\n",
        "        frame_interval = int(fps * (self.interval_ms / 1000.0))\n",
        "\n",
        "        frame_number = 0\n",
        "        saved_frame_count = 0\n",
        "\n",
        "        while True:\n",
        "            ret, frame = cap.read()\n",
        "            if not ret:\n",
        "                break\n",
        "\n",
        "            # Save the frame if it matches the interval\n",
        "            if frame_number % frame_interval == 0:\n",
        "                output_path = os.path.join(self.output_folder, f\"frame_{saved_frame_count:04d}.png\")\n",
        "                cv2.imwrite(output_path, frame)\n",
        "                saved_frame_count += 1\n",
        "\n",
        "            frame_number += 1\n",
        "\n",
        "        cap.release()\n",
        "        print(f\"Extracted {saved_frame_count} frames to {self.output_folder}\")\n"
      ]
    },
    {
      "cell_type": "code",
      "execution_count": null,
      "metadata": {
        "colab": {
          "base_uri": "https://localhost:8080/",
          "height": 923
        },
        "id": "8u7_VxZZ_dPN",
        "outputId": "f8f5da1e-09e5-4dfd-8088-4b0d5f9c75af"
      },
      "outputs": [],
      "source": [
        "# Upload the video file to Google Colab\n",
        "print(\"Upload your video file:\")\n",
        "uploaded = files.upload()\n",
        "\n",
        "# Get the uploaded video file name\n",
        "video_file_name = list(uploaded.keys())[0]\n",
        "video_path = video_file_name\n",
        "\n",
        "# Set the output folder for extracted frames\n",
        "output_folder = \"extracted_frames\"\n",
        "\n",
        "# Set the interval in milliseconds (e.g., 100 ms)\n",
        "interval_ms = 100\n",
        "# Create an instance of the VideoFrameExtractor\n",
        "extractor = VideoFrameExtractor(video_path, output_folder, interval_ms)\n",
        "\n",
        "# Extract frames\n",
        "extractor.extract_frames()\n",
        "\n",
        "# Download the extracted frames\n",
        "print(\"Download the extracted frames:\")\n",
        "!zip -r extracted_frames.zip extracted_frames\n",
        "files.download('extracted_frames.zip')\n"
      ]
    }
  ],
  "metadata": {
    "colab": {
      "provenance": []
    },
    "kernelspec": {
      "display_name": "Python 3",
      "name": "python3"
    },
    "language_info": {
      "name": "python"
    }
  },
  "nbformat": 4,
  "nbformat_minor": 0
}
